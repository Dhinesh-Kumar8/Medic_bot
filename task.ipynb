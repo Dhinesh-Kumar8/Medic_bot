{
  "nbformat": 4,
  "nbformat_minor": 0,
  "metadata": {
    "colab": {
      "provenance": [],
      "include_colab_link": true
    },
    "kernelspec": {
      "name": "python3",
      "display_name": "Python 3"
    },
    "language_info": {
      "name": "python"
    }
  },
  "cells": [
    {
      "cell_type": "markdown",
      "metadata": {
        "id": "view-in-github",
        "colab_type": "text"
      },
      "source": [
        "<a href=\"https://colab.research.google.com/github/Dhinesh-Kumar8/Medic_bot/blob/main/task.ipynb\" target=\"_parent\"><img src=\"https://colab.research.google.com/assets/colab-badge.svg\" alt=\"Open In Colab\"/></a>"
      ]
    },
    {
      "cell_type": "code",
      "execution_count": null,
      "metadata": {
        "id": "9iMTVMNihfFY"
      },
      "outputs": [],
      "source": [
        "pip install gradio openai python-dotenv"
      ]
    },
    {
      "cell_type": "code",
      "source": [
        "pip install messages"
      ],
      "metadata": {
        "colab": {
          "base_uri": "https://localhost:8080/",
          "height": 703
        },
        "id": "u-GN8XD7YtSY",
        "outputId": "35180eac-85a0-494d-f576-56e9f90406e4"
      },
      "execution_count": null,
      "outputs": [
        {
          "output_type": "stream",
          "name": "stdout",
          "text": [
            "Requirement already satisfied: messages in /usr/local/lib/python3.10/dist-packages (0.8.0)\n",
            "Requirement already satisfied: aiosmtplib<2.0.0,>=1.1.6 in /usr/local/lib/python3.10/dist-packages (from messages) (1.1.7)\n",
            "Collecting httpx<0.20.0,>=0.19.0 (from messages)\n",
            "  Using cached httpx-0.19.0-py3-none-any.whl (77 kB)\n",
            "Requirement already satisfied: validus<0.4.0,>=0.3.0 in /usr/local/lib/python3.10/dist-packages (from messages) (0.3.0)\n",
            "Requirement already satisfied: certifi in /usr/local/lib/python3.10/dist-packages (from httpx<0.20.0,>=0.19.0->messages) (2024.2.2)\n",
            "Requirement already satisfied: charset-normalizer in /usr/local/lib/python3.10/dist-packages (from httpx<0.20.0,>=0.19.0->messages) (3.3.2)\n",
            "Requirement already satisfied: sniffio in /usr/local/lib/python3.10/dist-packages (from httpx<0.20.0,>=0.19.0->messages) (1.3.1)\n",
            "Requirement already satisfied: rfc3986[idna2008]<2,>=1.3 in /usr/local/lib/python3.10/dist-packages (from httpx<0.20.0,>=0.19.0->messages) (1.5.0)\n",
            "Collecting httpcore<0.14.0,>=0.13.3 (from httpx<0.20.0,>=0.19.0->messages)\n",
            "  Using cached httpcore-0.13.7-py3-none-any.whl (58 kB)\n",
            "Collecting h11<0.13,>=0.11 (from httpcore<0.14.0,>=0.13.3->httpx<0.20.0,>=0.19.0->messages)\n",
            "  Using cached h11-0.12.0-py3-none-any.whl (54 kB)\n",
            "Requirement already satisfied: anyio==3.* in /usr/local/lib/python3.10/dist-packages (from httpcore<0.14.0,>=0.13.3->httpx<0.20.0,>=0.19.0->messages) (3.7.1)\n",
            "Requirement already satisfied: idna>=2.8 in /usr/local/lib/python3.10/dist-packages (from anyio==3.*->httpcore<0.14.0,>=0.13.3->httpx<0.20.0,>=0.19.0->messages) (3.6)\n",
            "Requirement already satisfied: exceptiongroup in /usr/local/lib/python3.10/dist-packages (from anyio==3.*->httpcore<0.14.0,>=0.13.3->httpx<0.20.0,>=0.19.0->messages) (1.2.0)\n",
            "Installing collected packages: h11, httpcore, httpx\n",
            "  Attempting uninstall: h11\n",
            "    Found existing installation: h11 0.14.0\n",
            "    Uninstalling h11-0.14.0:\n",
            "      Successfully uninstalled h11-0.14.0\n",
            "  Attempting uninstall: httpcore\n",
            "    Found existing installation: httpcore 1.0.5\n",
            "    Uninstalling httpcore-1.0.5:\n",
            "      Successfully uninstalled httpcore-1.0.5\n",
            "  Attempting uninstall: httpx\n",
            "    Found existing installation: httpx 0.27.0\n",
            "    Uninstalling httpx-0.27.0:\n",
            "      Successfully uninstalled httpx-0.27.0\n",
            "\u001b[31mERROR: pip's dependency resolver does not currently take into account all the packages that are installed. This behaviour is the source of the following dependency conflicts.\n",
            "gradio 4.26.0 requires httpx>=0.24.1, but you have httpx 0.19.0 which is incompatible.\n",
            "gradio-client 0.15.1 requires httpx>=0.24.1, but you have httpx 0.19.0 which is incompatible.\n",
            "openai 1.16.2 requires httpx<1,>=0.23.0, but you have httpx 0.19.0 which is incompatible.\u001b[0m\u001b[31m\n",
            "\u001b[0mSuccessfully installed h11-0.12.0 httpcore-0.13.7 httpx-0.19.0\n"
          ]
        },
        {
          "output_type": "display_data",
          "data": {
            "application/vnd.colab-display-data+json": {
              "pip_warning": {
                "packages": [
                  "h11",
                  "httpcore",
                  "httpx"
                ]
              },
              "id": "4abb4d074c6e4aebb7da6f9265de97b5"
            }
          },
          "metadata": {}
        }
      ]
    },
    {
      "cell_type": "code",
      "source": [
        "import gradio as gr\n",
        "import openai\n",
        "import os\n",
        "import random\n",
        "import time\n",
        "from dotenv import load_dotenv\n",
        "load_dotenv()\n",
        "\n",
        "\n",
        "#using your api key\n",
        "openai.api_key =(\"Sk-AUF4myhHPkwvCDIzuf1BT3BlbkFJqMQcmdIgjJco3GkdEQHm\")\n",
        "messages=[]\n",
        "with gr.Blocks() as demo:\n",
        "   global messages\n",
        "   health_condition = gr.inputs.Dropdown([\"BP\",\"FEVER\",\"TYROIDE\",\"SUGAR\"],label=\"health_condition\")\n",
        "   severity_condition =gr.inputs.Dropdown([\"minor\",\"moderate\",\"major\",\"extreme\"],label = \"severity_condition\")\n",
        "   chatbot = gr.Chatbot()\n",
        "\n",
        "   msg = gr.Textbox()\n",
        "   clear = gr.Button(\"Clear\")\n",
        "\n",
        "   def respond(message, chat_history, health_con, severity_con):\n",
        "    if len(messages)==0:\n",
        "       messages.append({\"role\": \"system\", \"content\": f\"You are medical assisant chatbot.you are assisting a paitent with {health_con}  condition and  {severity_con} severity\"})\n",
        "       print(messages)\n",
        "    messages.append({\"role\": \"user\", \"content\": message})\n",
        "    response = openai.ChatCompletion.create(\n",
        "        model=\"gpt-3.5-turbo\",\n",
        "        messages=messages\n",
        "    )\n",
        "    bot_message = response[\"choices\"][0][\"message\"][\"content\"]\n",
        "    chat_history.append((message,bot_message))\n",
        "    return \"\", chat_history,health_con,severity_con\n",
        "\n",
        "   msg.submit(respond,[msg, chatbot, health_condition, severity_condition],[msg, chatbot, health_condition,severity_condition])\n",
        "   clear.click(lambda: None, None, chatbot, queue = False)\n",
        "\n",
        "demo.launch()\n"
      ],
      "metadata": {
        "id": "JQr39qxEi-LN",
        "colab": {
          "base_uri": "https://localhost:8080/",
          "height": 383
        },
        "outputId": "51478a5c-4c65-4441-9b3a-cda6abab2acb"
      },
      "execution_count": null,
      "outputs": [
        {
          "output_type": "error",
          "ename": "ModuleNotFoundError",
          "evalue": "No module named 'gradio'",
          "traceback": [
            "\u001b[0;31m---------------------------------------------------------------------------\u001b[0m",
            "\u001b[0;31mModuleNotFoundError\u001b[0m                       Traceback (most recent call last)",
            "\u001b[0;32m<ipython-input-1-87a9cf46dab1>\u001b[0m in \u001b[0;36m<cell line: 1>\u001b[0;34m()\u001b[0m\n\u001b[0;32m----> 1\u001b[0;31m \u001b[0;32mimport\u001b[0m \u001b[0mgradio\u001b[0m \u001b[0;32mas\u001b[0m \u001b[0mgr\u001b[0m\u001b[0;34m\u001b[0m\u001b[0;34m\u001b[0m\u001b[0m\n\u001b[0m\u001b[1;32m      2\u001b[0m \u001b[0;32mimport\u001b[0m \u001b[0mopenai\u001b[0m\u001b[0;34m\u001b[0m\u001b[0;34m\u001b[0m\u001b[0m\n\u001b[1;32m      3\u001b[0m \u001b[0;32mimport\u001b[0m \u001b[0mos\u001b[0m\u001b[0;34m\u001b[0m\u001b[0;34m\u001b[0m\u001b[0m\n\u001b[1;32m      4\u001b[0m \u001b[0;32mimport\u001b[0m \u001b[0mrandom\u001b[0m\u001b[0;34m\u001b[0m\u001b[0;34m\u001b[0m\u001b[0m\n\u001b[1;32m      5\u001b[0m \u001b[0;32mimport\u001b[0m \u001b[0mtime\u001b[0m\u001b[0;34m\u001b[0m\u001b[0;34m\u001b[0m\u001b[0m\n",
            "\u001b[0;31mModuleNotFoundError\u001b[0m: No module named 'gradio'",
            "",
            "\u001b[0;31m---------------------------------------------------------------------------\u001b[0;32m\nNOTE: If your import is failing due to a missing package, you can\nmanually install dependencies using either !pip or !apt.\n\nTo view examples of installing some common dependencies, click the\n\"Open Examples\" button below.\n\u001b[0;31m---------------------------------------------------------------------------\u001b[0m\n"
          ],
          "errorDetails": {
            "actions": [
              {
                "action": "open_url",
                "actionText": "Open Examples",
                "url": "/notebooks/snippets/importing_libraries.ipynb"
              }
            ]
          }
        }
      ]
    }
  ]
}