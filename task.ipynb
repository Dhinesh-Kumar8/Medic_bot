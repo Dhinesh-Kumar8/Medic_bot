{
  "cells": [
    {
      "cell_type": "code",
      "execution_count": null,
      "metadata": {
        "id": "9iMTVMNihfFY"
      },
      "outputs": [],
      "source": [
        "pip install gradio openai python-dotenv"
      ]
    },
    {
      "cell_type": "code",
      "execution_count": null,
      "metadata": {
        "colab": {
          "base_uri": "https://localhost:8080/",
          "height": 703
        },
        "id": "u-GN8XD7YtSY",
        "outputId": "35180eac-85a0-494d-f576-56e9f90406e4"
      },
      "outputs": [],
      "source": [
        "pip install messages"
      ]
    },
    {
      "cell_type": "code",
      "execution_count": null,
      "metadata": {
        "colab": {
          "base_uri": "https://localhost:8080/",
          "height": 383
        },
        "id": "JQr39qxEi-LN",
        "outputId": "51478a5c-4c65-4441-9b3a-cda6abab2acb"
      },
      "outputs": [],
      "source": [
        "import gradio as gr\n",
        "import openai\n",
        "import os\n",
        "import random\n",
        "import time\n",
        "from dotenv import load_dotenv\n",
        "load_dotenv()\n",
        "\n",
        "\n",
        "#using your api key\n",
        "openai.api_key =(\"Sk-AUF4myhHPkwvCDIzuf1BT3BlbkFJqMQcmdIgjJco3GkdEQHm\")\n",
        "messages=[]\n",
        "with gr.Blocks() as demo:\n",
        "   global messages\n",
        "   health_condition = gr.inputs.Dropdown([\"BP\",\"FEVER\",\"TYROIDE\",\"SUGAR\"],label=\"health_condition\")\n",
        "   severity_condition =gr.inputs.Dropdown([\"minor\",\"moderate\",\"major\",\"extreme\"],label = \"severity_condition\")\n",
        "   chatbot = gr.Chatbot()\n",
        "\n",
        "   msg = gr.Textbox()\n",
        "   clear = gr.Button(\"Clear\")\n",
        "\n",
        "   def respond(message, chat_history, health_con, severity_con):\n",
        "    if len(messages)==0:\n",
        "       messages.append({\"role\": \"system\", \"content\": f\"You are medical assisant chatbot.you are assisting a paitent with {health_con}  condition and  {severity_con} severity\"})\n",
        "       print(messages)\n",
        "    messages.append({\"role\": \"user\", \"content\": message})\n",
        "    response = openai.ChatCompletion.create(\n",
        "        model=\"gpt-3.5-turbo\",\n",
        "        messages=messages\n",
        "    )\n",
        "    bot_message = response[\"choices\"][0][\"message\"][\"content\"]\n",
        "    chat_history.append((message,bot_message))\n",
        "    return \"\", chat_history,health_con,severity_con\n",
        "\n",
        "   msg.submit(respond,[msg, chatbot, health_condition, severity_condition],[msg, chatbot, health_condition,severity_condition])\n",
        "   clear.click(lambda: None, None, chatbot, queue = False)\n",
        "\n",
        "demo.launch()\n"
      ]
    }
  ],
  "metadata": {
    "colab": {
      "include_colab_link": true,
      "provenance": []
    },
    "kernelspec": {
      "display_name": "Python 3",
      "name": "python3"
    },
    "language_info": {
      "name": "python"
    }
  },
  "nbformat": 4,
  "nbformat_minor": 0
}
